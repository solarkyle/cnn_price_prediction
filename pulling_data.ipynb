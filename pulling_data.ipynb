{
 "cells": [
  {
   "cell_type": "markdown",
   "metadata": {},
   "source": [
    "Every 15 minutes call api to get last 15 minutes data\n",
    "reformat it to be like the other dataframe\n",
    "make image of it\n",
    "run inference on new image to return up or down for high and low\n",
    "send that info to trade executer\n",
    "append new dataframe and labels from last 15 min to old dataframe "
   ]
  },
  {
   "cell_type": "code",
   "execution_count": null,
   "metadata": {},
   "outputs": [],
   "source": [
    "import torch\n",
    "import numpy as np\n",
    "import pandas as pd\n",
    "import json\n",
    "import requests"
   ]
  },
  {
   "cell_type": "code",
   "execution_count": null,
   "metadata": {},
   "outputs": [],
   "source": [
    "def minute_scraper():\n",
    "    url = 'https://api.pro.coinbase.com/products/ETH-USD/candles'\n",
    "    parameters = {\n",
    "        'start':'2020-06-09T09:00:40.043459',\n",
    "        'end':'2020-06-09T09:18:22.021138',\n",
    "        'granularity': '60'\n",
    "     }\n",
    "    r = requests.get(url, parameters)\n",
    "    return pd.DataFrame(r.json())\n",
    "\n",
    "eth15 = minute_scraper()\n",
    "eth15"
   ]
  },
  {
   "cell_type": "code",
   "execution_count": null,
   "metadata": {},
   "outputs": [],
   "source": [
    "days_in_months = {\n",
    "    '01': 31,\n",
    "    '02': 28,\n",
    "    '03': 31,\n",
    "    '04' :30,\n",
    "    '05': 31,\n",
    "    '06' :30,\n",
    "    '07' :31,\n",
    "    '08' :31,\n",
    "    '09' :30,\n",
    "    '10' :31,\n",
    "    '11' :30, \n",
    "    '12' :31\n",
    "    }"
   ]
  },
  {
   "cell_type": "code",
   "execution_count": null,
   "metadata": {},
   "outputs": [],
   "source": [
    "year = 2020\n",
    "\n",
    "url = 'https://api.pro.coinbase.com/products/ETH-USD/candles'\n",
    "days = 0\n",
    "for i in days_in_months:\n",
    "    month = i\n",
    "    for e in range(1,days_in_months[i]+1):        \n",
    "        if e < 10:\n",
    "            day = '0'+str(e)\n",
    "        else:\n",
    "            day = str(e)\n",
    "        start = 0\n",
    "        end = 3\n",
    "        count = 0\n",
    "        for i in range(6):\n",
    "            if count < 2:\n",
    "                zerostart = '0'\n",
    "                zeroend = '0'\n",
    "            elif count == 2:\n",
    "                zerostart = '0'\n",
    "                zeroend = ''\n",
    "            else:\n",
    "                zerostart = ''\n",
    "                zeroend = ''\n",
    "                \n",
    "            time.sleep(3)\n",
    "            parameters = {\n",
    "                'start':f'{year}-{month}-{day}T{zerostart}{start}:00:00.000000',\n",
    "                'end':f'{year}-{month}-{day}T{zeroend}{end}:59:00.000000',\n",
    "                'granularity': '60'\n",
    "             }\n",
    "            start += 4\n",
    "            end += 4\n",
    "            count += 1\n",
    "            print(parameters)\n",
    "            r = requests.get(url, parameters)\n",
    "            newdf = pd.DataFrame(r.json())\n",
    "            combined = pd.concat([newdf,eth],ignore_index=True)\n",
    "            eth = combined\n",
    "        days +=1\n",
    "        print(days)\n"
   ]
  },
  {
   "cell_type": "code",
   "execution_count": null,
   "metadata": {},
   "outputs": [],
   "source": [
    "def Bolinger_Bands(stock_price, window_size, num_of_std):\n",
    "\n",
    "    rolling_mean = stock_price.rolling(window=window_size).mean()\n",
    "    rolling_std  = stock_price.rolling(window=window_size).std()\n",
    "    upper_band = rolling_mean + (rolling_std*num_of_std)\n",
    "    lower_band = rolling_mean - (rolling_std*num_of_std)\n",
    "\n",
    "    return rolling_mean, upper_band, lower_band"
   ]
  },
  {
   "cell_type": "code",
   "execution_count": null,
   "metadata": {},
   "outputs": [],
   "source": [
    "def cleaner(ticker):\n",
    "    ticker['datetime'] = pd.to_datetime(ticker['0'], unit='s')\\\n",
    "               .dt.strftime('%Y-%m-%d %H:%M:%S')\n",
    "    \n",
    "    ticker = ticker.drop(['0'], axis=1)\n",
    "\n",
    "    ticker = ticker.set_index(['datetime'])\n",
    "    \n",
    "    ticker = ticker.rename(columns={'1': \"Low\", '2': \"High\", '3': \"Open\", '4': \"Close\", '5': \"Volume\"})\n",
    "    \n",
    "    rolling_avg_price, upper_band, lower_band = Bolinger_Bands(ticker['Close'], 60, 2)\n",
    "\n",
    "    ticker['MA'] = rolling_avg_price\n",
    "    ticker['up_band'] = upper_band\n",
    "    ticker['down_band'] = lower_band\n",
    "\n",
    "    ticker = ticker.iloc[::-1]\n",
    "\n",
    "    #Change order of columns\n",
    "    cols = ticker.columns.tolist()\n",
    "    cols = ['Open', 'High', 'Low', 'Close', 'Volume', 'MA', 'up_band', 'down_band']\n",
    "    ticker = ticker[cols]\n",
    "    \n",
    "    \n",
    "    ticker = ticker.dropna()\n",
    "    \n",
    "    return ticker"
   ]
  }
 ],
 "metadata": {
  "kernelspec": {
   "display_name": "Python [conda env:fastai] *",
   "language": "python",
   "name": "conda-env-fastai-py"
  },
  "language_info": {
   "codemirror_mode": {
    "name": "ipython",
    "version": 3
   },
   "file_extension": ".py",
   "mimetype": "text/x-python",
   "name": "python",
   "nbconvert_exporter": "python",
   "pygments_lexer": "ipython3",
   "version": "3.6.7"
  }
 },
 "nbformat": 4,
 "nbformat_minor": 2
}
