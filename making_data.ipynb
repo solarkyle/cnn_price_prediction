{
 "cells": [
  {
   "cell_type": "code",
   "execution_count": null,
   "metadata": {},
   "outputs": [],
   "source": [
    "%matplotlib inline\n",
    "import matplotlib\n",
    "import matplotlib.pyplot as plt\n",
    "import io, base64, os, json, re \n",
    "import pandas as pd\n",
    "import numpy as np\n",
    "import datetime\n",
    "import warnings\n",
    "warnings.filterwarnings('ignore')\n",
    "import cv2 \n",
    "from PIL import Image\n",
    "import mplfinance as mpf\n",
    "import time"
   ]
  },
  {
   "cell_type": "code",
   "execution_count": null,
   "metadata": {},
   "outputs": [],
   "source": [
    "eth = pd.read_csv('goodcleaneth.csv')\n",
    "eth = eth.set_index( pd.DatetimeIndex(eth['datetime']))\n",
    "eth = eth.drop(['datetime', 'MA', 'up_band', 'down_band'], axis=1)\n",
    "hourly = eth[-100000:]\n"
   ]
  },
  {
   "cell_type": "code",
   "execution_count": null,
   "metadata": {},
   "outputs": [],
   "source": [
    "def higher_or_lower(df):\n",
    "    high = np.max(list(df['High']))\n",
    "    low = np.min(list(df['Low']))\n",
    "    \n",
    "    return high, low"
   ]
  },
  {
   "cell_type": "code",
   "execution_count": null,
   "metadata": {},
   "outputs": [],
   "source": [
    "def output(new, old):\n",
    "    if new > old:\n",
    "        return 2\n",
    "    elif new < old:\n",
    "        return 1\n",
    "    else:\n",
    "        return 0"
   ]
  },
  {
   "cell_type": "code",
   "execution_count": null,
   "metadata": {},
   "outputs": [],
   "source": [
    "\n",
    "codes = {\n",
    " (0, 0): 0,\n",
    " (0, 1): 1,\n",
    " (0, 2): 2,\n",
    " (1, 0): 3,\n",
    " (1, 1): 4,\n",
    " (1, 2): 5,\n",
    " (2, 0): 6,\n",
    " (2, 1): 7,\n",
    " (2, 2): 8\n",
    "}\n",
    "imgs_and_label = pd.DataFrame([['random.png', 7]], columns=list(['name', 'label']))\n",
    "\n",
    "old_high, old_low = 0,0\n",
    "start = 10000\n",
    "stop = 10030\n",
    "area = (109, 87, 610, 589)\n",
    "\n",
    "for i in range(500):\n",
    "    if i % 20 == 0:\n",
    "        time.sleep(10)\n",
    "        print('Sleepin zzzzzzzz')\n",
    "    df = hourly[start:stop]\n",
    "    name = f'bw-minute-barchart-{i}.png'\n",
    "    kwargs = dict(type='candle',mav=(2,4,6),volume=True,figratio=(10,10),figscale=1)\n",
    "    mpf.plot(df,**kwargs,savefig=f'bar_imgs/{name}')\n",
    "    img = Image.open(f\"bar_imgs/{name}\").convert('LA')\n",
    "\n",
    "    cropped_img = img.crop(area)\n",
    "    cropped_img.save(f\"bar_imgs/{name}\") \n",
    "    high, low = higher_or_lower(df)\n",
    "    start += 30\n",
    "    stop += 30\n",
    "    pd_high = output(high, old_high)\n",
    "    pd_low = output(low, old_low)\n",
    "    label = codes.get((pd_high, pd_low))\n",
    "    print(f'img {name} has high of {pd_high} and low of {pd_low}')\n",
    "    \n",
    "    new_row = pd.DataFrame([[name, label]], columns=list(['name','label']))\n",
    "    imgs_and_label = imgs_and_label.append(new_row, ignore_index=True)\n",
    "    old_high, old_low = high, low\n",
    "    print(f'On number {i}')"
   ]
  },
  {
   "cell_type": "code",
   "execution_count": null,
   "metadata": {},
   "outputs": [],
   "source": [
    "imgs_and_label['label'] = imgs_and_label['label'].shift(-1,fill_value=69)\n",
    "imgs_and_label = imgs_and_label.drop([0, 500])\n",
    "imgs_and_label"
   ]
  },
  {
   "cell_type": "code",
   "execution_count": null,
   "metadata": {},
   "outputs": [],
   "source": [
    "bw_train = imgs_and_label[imgs_and_label.index % 10 != 0]\n",
    "bw_val = imgs_and_label[imgs_and_label.index % 10 == 0]"
   ]
  },
  {
   "cell_type": "code",
   "execution_count": null,
   "metadata": {},
   "outputs": [],
   "source": [
    "bw_train.to_csv('bw_train.csv', index=False)\n",
    "bw_val.to_csv('bw_val.csv', index=False)"
   ]
  }
 ],
 "metadata": {
  "kernelspec": {
   "display_name": "Python [conda env:fastai] *",
   "language": "python",
   "name": "conda-env-fastai-py"
  },
  "language_info": {
   "codemirror_mode": {
    "name": "ipython",
    "version": 3
   },
   "file_extension": ".py",
   "mimetype": "text/x-python",
   "name": "python",
   "nbconvert_exporter": "python",
   "pygments_lexer": "ipython3",
   "version": "3.6.7"
  }
 },
 "nbformat": 4,
 "nbformat_minor": 2
}
